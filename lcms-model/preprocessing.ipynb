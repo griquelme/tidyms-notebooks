{
 "cells": [
  {
   "cell_type": "markdown",
   "id": "8010f1dd",
   "metadata": {},
   "source": [
    "# Data preprocessing of the PCa dataset\n",
    "\n",
    "**Warning: The data required to run this notebook is still being uploaded to Metabolights.**\n",
    "\n",
    "This notebook contains the the code to extract a data matrix from the PCa dataset from (ADD DOI). The following steps are applied to data:\n",
    "\n",
    "1. Feature detection and extraction (Detection of chromatographic peaks)\n",
    "2. Creation of a feature table with descriptors for the features detected in each sample\n",
    "3. Feature correspondence\n",
    "4. Data matrix creation.\n",
    "5. Fill missing values.\n",
    "\n",
    "A data curation pipeline is applied to the raw data matrix:\n",
    "\n",
    "1. Correction of time-dependent drift.\n",
    "2. Blank correction.\n",
    "3. Filter features based on QC samples repeatability using CV. Features with %CV greater than 10 % are removed.\n",
    "4. Filter features based on detection rate on QC samples. Features not detected in all QC samples are removed.\n",
    "5. Filter features based on linearity of response, using a serial dilution experiment. Features with Pearson's correlation with the dilution factor lower than 0.9 are removed.\n",
    "6. Filter features based on experimental reproducibility. Features with %CV greater than 25 % on a set of process replicates of QC samples are removed.\n",
    "7. Retention time filter. Features with Retention times lower than 60 s are removed.\n",
    "\n",
    "After data curation, samples where the internal standard (IS) signal is outside the interval defined by three times the standard deviation of the IS +/- the mean of the IS are considered outliers and removed from the dataset.\n",
    "\n",
    "The data is available in the Metabolights repository with the identifier MTBLS5659. In order to run this code the directory called `untargeted-assay` must be downloaded from the repository and copied into the `data` directory. "
   ]
  },
  {
   "cell_type": "code",
   "execution_count": null,
   "id": "1e42ce43",
   "metadata": {},
   "outputs": [],
   "source": [
    "import numpy as np\n",
    "import pandas as pd\n",
    "import tidyms as ms\n",
    "import matplotlib.pyplot as plt\n",
    "from utils import data_container_to_csv, data_container_from_csv"
   ]
  },
  {
   "cell_type": "markdown",
   "id": "a82074cb",
   "metadata": {},
   "source": [
    "## Load study data"
   ]
  },
  {
   "cell_type": "code",
   "execution_count": null,
   "id": "7e62b545",
   "metadata": {},
   "outputs": [],
   "source": [
    "# assign data path to the untargeted-assay directory inside the metabolights repository (MTBL5659) \n",
    "data_path = \"/mnt/d/pca-project-mzml/untargeted-assay/\"\n",
    "assay = ms.Assay(\n",
    "    assay_path=\"pca-untargeted\",\n",
    "    data_path=data_path,\n",
    "    sample_metadata=\"data/sample-metadata.csv\"\n",
    ")"
   ]
  },
  {
   "cell_type": "code",
   "execution_count": null,
   "id": "231eeffd",
   "metadata": {},
   "outputs": [],
   "source": [
    "sm = assay.get_sample_metadata()"
   ]
  },
  {
   "cell_type": "code",
   "execution_count": null,
   "id": "fcabd668",
   "metadata": {},
   "outputs": [],
   "source": [
    "sm[sm.batch == 27]"
   ]
  },
  {
   "cell_type": "code",
   "execution_count": null,
   "id": "30081bd8",
   "metadata": {},
   "outputs": [],
   "source": [
    "with open(\"sample-names.txt\", \"w\") as fin:\n",
    "    for s in assay.manager.get_sample_names():\n",
    "        fin.write(s + \"\\n\")"
   ]
  },
  {
   "cell_type": "markdown",
   "id": "94f381e0",
   "metadata": {},
   "source": [
    "## Feature detection and extraction"
   ]
  },
  {
   "cell_type": "code",
   "execution_count": null,
   "id": "4cbe8954",
   "metadata": {},
   "outputs": [],
   "source": [
    "roi_params = {\"tolerance\": 0.015, \"min_intensity\": 250, \"min_length\": 8}\n",
    "assay.detect_features(n_jobs=2, **roi_params)"
   ]
  },
  {
   "cell_type": "code",
   "execution_count": null,
   "id": "72f72c09",
   "metadata": {},
   "outputs": [],
   "source": [
    "assay.extract_features(n_jobs=2, store_smoothed=True)"
   ]
  },
  {
   "cell_type": "code",
   "execution_count": null,
   "id": "2636be24",
   "metadata": {
    "scrolled": true
   },
   "outputs": [],
   "source": [
    "assay.describe_features(\n",
    "    n_jobs=2,\n",
    "    filters={\"snr\": (5, None), \"width\": (4, 60)}\n",
    ")"
   ]
  },
  {
   "cell_type": "code",
   "execution_count": null,
   "id": "f937f712",
   "metadata": {},
   "outputs": [],
   "source": [
    "assay.build_feature_table()"
   ]
  },
  {
   "cell_type": "markdown",
   "id": "fc95e084",
   "metadata": {},
   "source": [
    "## Feature correspondence"
   ]
  },
  {
   "cell_type": "code",
   "execution_count": null,
   "id": "adc3ae40",
   "metadata": {},
   "outputs": [],
   "source": [
    "assay.match_features(\n",
    "    include_classes=[\"QC\", \"healthy\", \"cancer\", \"post-surgery\", \"benign\"],\n",
    "    mz_tolerance=0.01,\n",
    "    rt_tolerance=5,\n",
    "    min_fraction=0.25,\n",
    "    max_deviation=3,\n",
    "    verbose=True,\n",
    "    n_jobs=2\n",
    ")"
   ]
  },
  {
   "cell_type": "markdown",
   "id": "f5011bc3",
   "metadata": {},
   "source": [
    "## Data matrix creation"
   ]
  },
  {
   "cell_type": "code",
   "execution_count": null,
   "id": "60890838",
   "metadata": {},
   "outputs": [],
   "source": [
    "data = assay.make_data_matrix(\n",
    "    merge_close_features=True,\n",
    "    mz_merge=0.010,\n",
    "    rt_merge=5.0\n",
    ")"
   ]
  },
  {
   "cell_type": "code",
   "execution_count": null,
   "id": "e348c538",
   "metadata": {},
   "outputs": [],
   "source": [
    "assay.fill_missing(\n",
    "    mz_tolerance=0.035,\n",
    "    n_deviations=1.0,\n",
    "    estimate_not_found=True,\n",
    "    n_jobs=2,\n",
    "    verbose=True\n",
    ")"
   ]
  },
  {
   "cell_type": "code",
   "execution_count": null,
   "id": "be34f482",
   "metadata": {},
   "outputs": [],
   "source": [
    "# save raw data matrix\n",
    "data_container_to_csv(data, \"data/raw\")\n",
    "data.save(\"data/tidyms-pca-filled.pickle\")"
   ]
  },
  {
   "cell_type": "code",
   "execution_count": null,
   "id": "63a9d3a0",
   "metadata": {},
   "outputs": [],
   "source": [
    "# add dilution data and sample mapping to DataContainer\n",
    "\n",
    "def class_to_dil_factor(x):\n",
    "    try:\n",
    "        res = 1 / int(x)\n",
    "    except ValueError:\n",
    "        res = 1\n",
    "    return res\n",
    "\n",
    "data.dilution = data.classes.apply(class_to_dil_factor)\n",
    "\n",
    "\n",
    "mapping = {\n",
    "    \"qc\": [\"QC\"],\n",
    "    \"sample\": [\"healthy\", \"post-surgery\", \"cancer\", \"benign\", \"SRM\", \"1\", \"2\", \"4\", \"8\", \"16\", \"pQC\"],\n",
    "    \"blank\": [\"solvent\", \"process blank\"],\n",
    "    \"dqc\": [\"1\", \"2\", \"4\", \"8\", \"16\"]\n",
    "}\n",
    "data.mapping = mapping\n",
    "# data.set_plot_mode(\"seaborn\")"
   ]
  },
  {
   "cell_type": "code",
   "execution_count": null,
   "id": "2b40a5b3",
   "metadata": {},
   "outputs": [],
   "source": [
    "data.plot.pca_scores(scaling=\"autoscaling\", hue=\"type\")"
   ]
  },
  {
   "cell_type": "code",
   "execution_count": null,
   "id": "23bb71f9",
   "metadata": {},
   "outputs": [],
   "source": [
    "# internal standard (lacosamide)\n",
    "is_mz = 249.1249\n",
    "is_rt = 3.85 * 60 \n",
    "is_ft = data.select_features(is_mz, is_rt)[0]\n",
    "data.plot.feature(is_ft, hue=\"type\")"
   ]
  },
  {
   "cell_type": "markdown",
   "id": "da3e865c",
   "metadata": {},
   "source": [
    "## Data Curation"
   ]
  },
  {
   "cell_type": "code",
   "execution_count": null,
   "id": "7fa4123d",
   "metadata": {},
   "outputs": [],
   "source": [
    "# time-dependent drift correction\n",
    "data.preprocess.correct_batches(n_jobs=2, verbose=True)"
   ]
  },
  {
   "cell_type": "code",
   "execution_count": null,
   "id": "9fadbbcf",
   "metadata": {},
   "outputs": [],
   "source": [
    "# save DataContainer with batch corrected data\n",
    "data.save(\"data/tidyms-pca-filled-batch-corrected.pickle\")"
   ]
  },
  {
   "cell_type": "code",
   "execution_count": null,
   "id": "941b8d12",
   "metadata": {},
   "outputs": [],
   "source": [
    "# creating a custom filter to remove features based on retention time\n",
    "class RTFilter(ms.filter.Processor):\n",
    "    \n",
    "    def __init__(self, min_rt=None, max_rt=None, verbose=False):\n",
    "        super(RTFilter, self).__init__(\"filter\", \"features\", verbose=verbose)\n",
    "        self.name = \"RtFilter\"\n",
    "        if min_rt is None:\n",
    "            min_rt = 0\n",
    "        if max_rt is None:\n",
    "            max_rt = np.inf\n",
    "        self.params = {\"min_rt\": min_rt, \"max_rt\": max_rt}\n",
    "        \n",
    "    def func(self, dc):\n",
    "        rt = dc.feature_metadata[\"rt\"]\n",
    "        min_rt = self.params[\"min_rt\"]\n",
    "        max_rt = self.params[\"max_rt\"]\n",
    "        invalid_rt = (rt < min_rt) | (rt > max_rt)\n",
    "        rm_features = rt[invalid_rt].index\n",
    "        return rm_features"
   ]
  },
  {
   "cell_type": "markdown",
   "id": "4161fcd6",
   "metadata": {},
   "source": [
    "## Data Curation pipeline"
   ]
  },
  {
   "cell_type": "code",
   "execution_count": null,
   "id": "b3568ac4",
   "metadata": {},
   "outputs": [],
   "source": [
    "rtf = RTFilter(min_rt=60, verbose=True)\n",
    "bf = ms.filter.BlankCorrector(mode=\"loq\", factor=1, robust=True)\n",
    "pf = ms.filter.PrevalenceFilter(lb=1, process_classes=[\"QC\"])\n",
    "vf = ms.filter.VariationFilter(robust=True, ub=0.1)\n",
    "df = ms.filter.DilutionFilter(mode=\"pearson\", plim=0, min_corr=0.9)\n",
    "vf_pqc = ms.filter.VariationFilter(process_classes=[\"pQC\"], ub=0.25, robust=True)\n",
    "crm = ms.filter.ClassRemover(data.mapping[\"blank\"] + data.mapping[\"dqc\"])"
   ]
  },
  {
   "cell_type": "code",
   "execution_count": null,
   "id": "f0c537c9",
   "metadata": {
    "scrolled": true
   },
   "outputs": [],
   "source": [
    "pipeline = ms.filter.Pipeline([rtf, bf, pf, df, crm], verbose=True)\n",
    "pipeline.process(data)"
   ]
  },
  {
   "cell_type": "code",
   "execution_count": null,
   "id": "6cc2b137",
   "metadata": {},
   "outputs": [],
   "source": [
    "data_container_to_csv(data, \"data/curated-no-cv-filter\")\n",
    "data.save(\"data/tidyms-pca-filled-batch-corrected-pertial-curation-no-cv-filter.pickle\")"
   ]
  },
  {
   "cell_type": "code",
   "execution_count": null,
   "id": "67a6562e",
   "metadata": {
    "scrolled": true
   },
   "outputs": [],
   "source": [
    "pipeline = ms.filter.Pipeline([vf, vf_pqc,], verbose=True)\n",
    "pipeline.process(data)"
   ]
  },
  {
   "cell_type": "code",
   "execution_count": null,
   "id": "1153a824",
   "metadata": {
    "scrolled": false
   },
   "outputs": [],
   "source": [
    "data.data_matrix.shape"
   ]
  },
  {
   "cell_type": "markdown",
   "id": "af498da3",
   "metadata": {},
   "source": [
    "## Remove outliers based on Internal Standard CV"
   ]
  },
  {
   "cell_type": "code",
   "execution_count": null,
   "id": "d00766fa",
   "metadata": {},
   "outputs": [],
   "source": [
    "lacosamide_mz = 249.1249\n",
    "lacosamide_rt = 3.85 * 60\n",
    "lacosamide_ft = data.select_features(lacosamide_mz, lacosamide_rt)[0]\n",
    "\n",
    "study_sample_mask = data.classes.isin(data.mapping[\"sample\"])\n",
    "lacosamide_mean = data.data_matrix.loc[study_sample_mask, lacosamide_ft].mean()\n",
    "lacosamide_std = data.data_matrix.loc[study_sample_mask, lacosamide_ft].std()\n",
    "n_std = 3\n",
    "lacosamide_signal = data.data_matrix.loc[study_sample_mask, lacosamide_ft]\n",
    "batches = data.batch[study_sample_mask]\n",
    "\n",
    "outliers = lacosamide_signal.groupby(batches).apply(lambda x: ((x - x.mean()).abs() / x.std()) > n_std)\n",
    "outliers = outliers[outliers].index"
   ]
  },
  {
   "cell_type": "code",
   "execution_count": null,
   "id": "110366ae",
   "metadata": {
    "scrolled": true
   },
   "outputs": [],
   "source": [
    "outlier_index = np.where(lacosamide_signal.index.isin(outliers))[0]\n",
    "x = data.order[study_sample_mask].to_numpy()\n",
    "y = lacosamide_signal.to_numpy()\n",
    "\n",
    "fig, ax = plt.subplots()\n",
    "ax.plot(x, y)\n",
    "ax.scatter(x[outlier_index], y[outlier_index], label=\"outliers\")\n",
    "ax.set_xlabel(\"Run order\")\n",
    "ax.set_ylabel(\"Intensity [au]\")\n",
    "ax.set_title(\"Lacosamide area in study samples\")\n",
    "ax.ticklabel_format(axis=\"y\", style=\"sci\", scilimits=(0, 0))\n",
    "ax.legend()"
   ]
  },
  {
   "cell_type": "code",
   "execution_count": null,
   "id": "6c4c2b31",
   "metadata": {},
   "outputs": [],
   "source": [
    "data.remove(outliers, \"samples\")"
   ]
  },
  {
   "cell_type": "code",
   "execution_count": null,
   "id": "5dd2c04d",
   "metadata": {},
   "outputs": [],
   "source": [
    "data_container_to_csv(data, \"data/curated\")\n",
    "data.save(\"data/tidyms-pca-curated.pickle\")"
   ]
  },
  {
   "cell_type": "code",
   "execution_count": null,
   "id": "6b3bf032",
   "metadata": {},
   "outputs": [],
   "source": [
    "data.plot.pca_scores(scaling=\"autoscaling\")"
   ]
  }
 ],
 "metadata": {
  "kernelspec": {
   "display_name": "Python 3 (ipykernel)",
   "language": "python",
   "name": "python3"
  },
  "language_info": {
   "codemirror_mode": {
    "name": "ipython",
    "version": 3
   },
   "file_extension": ".py",
   "mimetype": "text/x-python",
   "name": "python",
   "nbconvert_exporter": "python",
   "pygments_lexer": "ipython3",
   "version": "3.9.7"
  }
 },
 "nbformat": 4,
 "nbformat_minor": 5
}
