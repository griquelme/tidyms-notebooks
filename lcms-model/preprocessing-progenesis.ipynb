{
 "cells": [
  {
   "cell_type": "code",
   "execution_count": null,
   "id": "tropical-arabic",
   "metadata": {
    "slideshow": {
     "slide_type": "skip"
    }
   },
   "outputs": [],
   "source": [
    "import numpy as np\n",
    "import pandas as pd\n",
    "import tidyms as ms\n",
    "import bokeh\n",
    "import seaborn as sns\n",
    "import matplotlib.pyplot as plt\n",
    "pd.set_option(\"display.precision\", 4)\n",
    "from utils import data_container_from_csv"
   ]
  },
  {
   "cell_type": "markdown",
   "id": "52065246",
   "metadata": {},
   "source": [
    "## Data loading"
   ]
  },
  {
   "cell_type": "code",
   "execution_count": null,
   "id": "569bef4a",
   "metadata": {
    "slideshow": {
     "slide_type": "skip"
    }
   },
   "outputs": [],
   "source": [
    "data = data_container_from_csv(\"data/progenesis-raw\")"
   ]
  },
  {
   "cell_type": "code",
   "execution_count": null,
   "id": "hearing-pressure",
   "metadata": {
    "slideshow": {
     "slide_type": "skip"
    }
   },
   "outputs": [],
   "source": [
    "# add dilution information and sample mapping to data\n",
    "\n",
    "def class_to_dil_factor(x):\n",
    "    try:\n",
    "        res = 1 / int(x)\n",
    "    except ValueError:\n",
    "        res = 1\n",
    "    return res\n",
    "\n",
    "data.dilution = data.classes.apply(class_to_dil_factor)\n",
    "\n",
    "\n",
    "# \"1\", \"2\", \"4\", \"8\", \"16\" refers to dilution QC samples used to assess linearity of response\n",
    "# pQC are process replicates from QC samples\n",
    "mapping = {\n",
    "    \"qc\": [\"QC\"],\n",
    "    \"sample\": [\"healthy\", \"post-surgery\", \"cancer\", \"benign\", \"SRM\", \"1\", \"2\", \"4\", \"8\", \"16\", \"pQC\"],\n",
    "    \"blank\": [\"solvent\", \"process blank\"],\n",
    "    \"dqc\": [\"1\", \"2\", \"4\", \"8\", \"16\"]\n",
    "}\n",
    "data.mapping = mapping\n",
    "data.set_plot_mode(\"seaborn\")\n",
    "\n",
    "# remove conditioning qcs\n",
    "rmcqc = ms.filter.ClassRemover([\"cQC\", \"zero\"])\n",
    "rmcqc.process(data)\n",
    "\n",
    "# remove solvent at the end of each analytical batch\n",
    "def get_last_sample_ind(df, n):\n",
    "    return df.index[-n:]\n",
    "\n",
    "ind = data.sample_metadata.groupby(\"batch\").apply(lambda x: get_last_sample_ind(x, 2))\n",
    "rm_sample = pd.Index([])\n",
    "for i in ind.items():\n",
    "    rm_sample = rm_sample.union(i[-1])\n",
    "    \n",
    "data.remove(rm_sample, \"samples\")"
   ]
  },
  {
   "cell_type": "code",
   "execution_count": null,
   "id": "unable-briefing",
   "metadata": {
    "slideshow": {
     "slide_type": "skip"
    }
   },
   "outputs": [],
   "source": [
    "# creating a custom filter to remove features based on retention time\n",
    "class RTFilter(ms.filter.Processor):\n",
    "    \n",
    "    def __init__(self, min_rt=None, max_rt=None, verbose=False):\n",
    "        super(RTFilter, self).__init__(\"filter\", \"features\", verbose=verbose)\n",
    "        self.name = \"RtFilter\"\n",
    "        if min_rt is None:\n",
    "            min_rt = 0\n",
    "        if max_rt is None:\n",
    "            max_rt = np.inf\n",
    "        self.params = {\"min_rt\": min_rt, \"max_rt\": max_rt}\n",
    "        \n",
    "    def func(self, dc):\n",
    "        rt = dc.feature_metadata[\"rt\"]\n",
    "        min_rt = self.params[\"min_rt\"]\n",
    "        max_rt = self.params[\"max_rt\"]\n",
    "        invalid_rt = (rt < min_rt) | (rt > max_rt)\n",
    "        rm_features = rt[invalid_rt].index\n",
    "        return rm_features"
   ]
  },
  {
   "cell_type": "code",
   "execution_count": null,
   "id": "196de2f6",
   "metadata": {},
   "outputs": [],
   "source": [
    "ignore = data.mapping[\"dqc\"] + [\"zero\", \"cQC\"]\n",
    "g = data.plot.pca_scores(\n",
    "    scaling=\"autoscaling\",\n",
    "    ignore_classes=ignore,\n",
    "    relplot_params={\"s\": 50, \"height\": 8, \"palette\": \"Set1\"},\n",
    "    hue=\"type\"\n",
    ")\n",
    "g.ax.set_title(\"PCA scores (antes del curado de datos)\")\n",
    "# g.savefig(\"pca-raw-qc-crm.png\", dpi=150)"
   ]
  },
  {
   "cell_type": "code",
   "execution_count": null,
   "id": "367a5108",
   "metadata": {},
   "outputs": [],
   "source": [
    "data.preprocess.correct_batches(n_jobs=2, verbose=True)"
   ]
  },
  {
   "cell_type": "code",
   "execution_count": null,
   "id": "ca010b1d",
   "metadata": {},
   "outputs": [],
   "source": [
    "data.save(\"data/data-progenesis-batch-corrected.pickle\")"
   ]
  },
  {
   "cell_type": "code",
   "execution_count": null,
   "id": "44c46091",
   "metadata": {
    "slideshow": {
     "slide_type": "skip"
    }
   },
   "outputs": [],
   "source": [
    "%%time\n",
    "rtf = RTFilter(min_rt=60, verbose=True)\n",
    "bf = ms.filter.BlankCorrector(mode=\"loq\", factor=1, robust=True)\n",
    "pf = ms.filter.PrevalenceFilter(lb=1, process_classes=[\"QC\"])\n",
    "vf = ms.filter.VariationFilter(robust=True, ub=0.1)\n",
    "df = ms.filter.DilutionFilter(mode=\"pearson\", plim=0, min_corr=0.9)\n",
    "vf_pqc = ms.filter.VariationFilter(process_classes=[\"pQC\"], ub=0.25, robust=True)\n",
    "crm = ms.filter.ClassRemover(data.mapping[\"blank\"] + data.mapping[\"dqc\"])\n",
    "\n",
    "pipeline = ms.filter.Pipeline([rtf, bf, pf, df, crm], verbose=True)\n",
    "pipeline.process(data)"
   ]
  },
  {
   "cell_type": "code",
   "execution_count": null,
   "id": "26a1cbaf",
   "metadata": {},
   "outputs": [],
   "source": [
    "data.save(\"data/progeneis-pca-filled-batch-corrected-partial-curation-no-cv-filter.pickle\")"
   ]
  },
  {
   "cell_type": "code",
   "execution_count": null,
   "id": "4dc5ad1b",
   "metadata": {},
   "outputs": [],
   "source": [
    "pipeline = ms.filter.Pipeline([vf, vf_pqc], verbose=True)\n",
    "pipeline.process(data)"
   ]
  },
  {
   "cell_type": "code",
   "execution_count": null,
   "id": "44e4d1d0",
   "metadata": {},
   "outputs": [],
   "source": [
    "lacosamide_mz = 249.1249\n",
    "lacosamide_rt = 3.85 * 60\n",
    "lacosamide_ft = data.select_features(lacosamide_mz, lacosamide_rt)[0]\n",
    "\n",
    "study_sample_mask = data.classes.isin(data.mapping[\"sample\"])\n",
    "lacosamide_mean = data.data_matrix.loc[study_sample_mask, lacosamide_ft].mean()\n",
    "lacosamide_std = data.data_matrix.loc[study_sample_mask, lacosamide_ft].std()\n",
    "n_std = 3\n",
    "lacosamide_signal = data.data_matrix.loc[study_sample_mask, lacosamide_ft]\n",
    "batches = data.batch[study_sample_mask]\n",
    "\n",
    "outliers = lacosamide_signal.groupby(batches).apply(lambda x: ((x - x.mean()).abs() / x.std()) > n_std)\n",
    "outliers = outliers[outliers].index"
   ]
  },
  {
   "cell_type": "code",
   "execution_count": null,
   "id": "7b70eb94",
   "metadata": {},
   "outputs": [],
   "source": [
    "outlier_index = np.where(lacosamide_signal.index.isin(outliers))[0]\n",
    "x = data.order[study_sample_mask].to_numpy()\n",
    "y = lacosamide_signal.to_numpy()\n",
    "\n",
    "fig, ax = plt.subplots()\n",
    "ax.plot(x, y)\n",
    "ax.scatter(x[outlier_index], y[outlier_index], label=\"outliers\")\n",
    "ax.set_xlabel(\"Run order\")\n",
    "ax.set_ylabel(\"Intensity [au]\")\n",
    "ax.set_title(\"Lacosamide area in study samples\")\n",
    "ax.ticklabel_format(axis=\"y\", style=\"sci\", scilimits=(0, 0))\n",
    "ax.legend()"
   ]
  },
  {
   "cell_type": "code",
   "execution_count": null,
   "id": "5c66af8f",
   "metadata": {},
   "outputs": [],
   "source": [
    "data.remove(outliers, \"samples\")"
   ]
  },
  {
   "cell_type": "code",
   "execution_count": null,
   "id": "cc94d869",
   "metadata": {},
   "outputs": [],
   "source": [
    "data.save(\"data/progenesis-pca-curated.pickle\")"
   ]
  },
  {
   "cell_type": "code",
   "execution_count": null,
   "id": "d46a1fd1",
   "metadata": {},
   "outputs": [],
   "source": [
    "data.plot.pca_scores(scaling=\"autoscaling\")"
   ]
  }
 ],
 "metadata": {
  "kernelspec": {
   "display_name": "Python 3 (ipykernel)",
   "language": "python",
   "name": "python3"
  },
  "language_info": {
   "codemirror_mode": {
    "name": "ipython",
    "version": 3
   },
   "file_extension": ".py",
   "mimetype": "text/x-python",
   "name": "python",
   "nbconvert_exporter": "python",
   "pygments_lexer": "ipython3",
   "version": "3.9.7"
  }
 },
 "nbformat": 4,
 "nbformat_minor": 5
}
