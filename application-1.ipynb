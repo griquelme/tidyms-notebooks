{
 "cells": [
  {
   "cell_type": "markdown",
   "metadata": {},
   "source": [
    "**This code example works with raw MS Data downloaded from the MetaboLights repository (~ 1 GiB).  The corresponding data is currently under the curation process of MetaboLights. These notebooks will be updated when the data can be publicly accessed. The running time is ~ 1 min (excluding the time required to download the data) using a Personal Computer with an 8th generation Intel i5 processor and 8 GiB memory.**\n",
    "\n",
    "# Application 1: System suitability check, and signal drift evaluation\n",
    "\n",
    "This notebook introduces the analysis of the application #1 published in (add DOI). It shows how to work with raw data using as an example a System Suitability Check conducted in a metabolomics experiment: System Suitability Samples (SSS) were prepared using five known chemical standards:\n",
    "\n",
    "* Alogliptin\n",
    "* Phe-Phe\n",
    "* Tryptophan\n",
    "* LPC 18:0\n",
    "* Leu-Enk\n",
    "\n",
    "Ten SSS samples (addressed as SSS1) were consecutively run and used to build an acceptance criteria, and then compared against values obtained from the analysis of SSS samples that were analyzed before (SSS2) and after (SSS3) the study samples. This analysis is displayed in Figure 3.\n",
    "\n",
    "A similar analysis was conducted using QC samples that were spiked with the same compounds and with Leu-13C used as internal standard, but in this case, no acceptance criteria was defined. These results are displayed in Figure S1."
   ]
  },
  {
   "cell_type": "code",
   "execution_count": null,
   "metadata": {},
   "outputs": [],
   "source": [
    "import tidyms as ms\n",
    "import numpy as np\n",
    "import bokeh as bk\n",
    "import pandas as pd\n",
    "import matplotlib.pyplot as plt\n",
    "import seaborn as sns\n",
    "import os\n",
    "from download_from_metabolights import get_application1_data\n",
    "bk.plotting.output_notebook()\n",
    "pd.set_option(\"display.precision\", 4)\n",
    "sns.set_context(\"paper\", font_scale=1.5)"
   ]
  },
  {
   "cell_type": "markdown",
   "metadata": {},
   "source": [
    "## Loading data from Metabolights"
   ]
  },
  {
   "cell_type": "code",
   "execution_count": null,
   "metadata": {},
   "outputs": [],
   "source": [
    "# Here we set the raw data path and create a DataFrame with\n",
    "# sample metadata\n",
    "data_path = \"data\"\n",
    "# this function downloads the data from Metabolights if it is not available locally \n",
    "get_application1_data(data_path) \n",
    "sample_list_path = os.path.join(data_path, \"sample_list.csv\")\n",
    "centroid_data_path = os.path.join(data_path, \"cent\")\n",
    "\n",
    "# get sample metadata\n",
    "sample_list = pd.read_csv(sample_list_path, index_col=0)"
   ]
  },
  {
   "cell_type": "code",
   "execution_count": null,
   "metadata": {},
   "outputs": [],
   "source": [
    "# compounds used for SSS check, with their m/z and expected retention times\n",
    "d = {\"Compound\": [\"Leu-13C\", \"Trp\", \"Phe-Phe\",\n",
    "                  \"Alogliptin\", \"LPC 18:0\", \"Leu-Enk\"],\n",
    "     \"rt\": [75, 129, 320, 291, 775, 372],\n",
    "     \"mz\": [133.1056, 205.0977,313.1552,\n",
    "            340.1773, 524.3716, 556.2771]}\n",
    "df = pd.DataFrame(data=d)"
   ]
  },
  {
   "cell_type": "markdown",
   "metadata": {},
   "source": [
    "## Feature Detection"
   ]
  },
  {
   "cell_type": "code",
   "execution_count": null,
   "metadata": {
    "scrolled": true
   },
   "outputs": [],
   "source": [
    "# Feature detection in all samples. Features with m/z values from\n",
    "# the compounds used for SSS\n",
    "roi_params = {\"targeted_mz\": df[\"mz\"].values, \"tolerance\": 0.015}\n",
    "# proto dm contains the feature table and roi is a dictionary\n",
    "# where each key is a sample name and each value is a list\n",
    "# of ROI detected in each sample\n",
    "roi, feature_table = ms.detect_features(centroid_data_path, roi_params=roi_params)"
   ]
  },
  {
   "cell_type": "code",
   "execution_count": null,
   "metadata": {
    "scrolled": true
   },
   "outputs": [],
   "source": [
    "# feature table\n",
    "feature_table.head()"
   ]
  },
  {
   "cell_type": "code",
   "execution_count": null,
   "metadata": {},
   "outputs": [],
   "source": [
    "# plotting ROI data\n",
    "k = 40\n",
    "s = feature_table.loc[k, \"sample\"]\n",
    "r = feature_table.loc[k, \"roi index\"]\n",
    "p = feature_table.loc[k, \"peak index\"]\n",
    "roi[s][r].plot()"
   ]
  },
  {
   "cell_type": "markdown",
   "metadata": {},
   "source": [
    "## Feature correspondence"
   ]
  },
  {
   "cell_type": "code",
   "execution_count": null,
   "metadata": {},
   "outputs": [],
   "source": [
    "# Feature correspondence of the detected features\n",
    "# after performing correspondence, a new column called cluster\n",
    "# label each one of the ionic species detected across samples\n",
    "cluster = ms.feature_correspondence(feature_table, 0.01, 5)\n",
    "# make_data_container organizes the feature table into\n",
    "# a data matrix, feature metadata and sample metadata\n",
    "data = ms.make_data_container(feature_table, cluster, sample_list)"
   ]
  },
  {
   "cell_type": "code",
   "execution_count": null,
   "metadata": {},
   "outputs": [],
   "source": [
    "feature_table"
   ]
  },
  {
   "cell_type": "markdown",
   "metadata": {},
   "source": [
    "## Remove unwanted features using the Retention times from the standards"
   ]
  },
  {
   "cell_type": "code",
   "execution_count": null,
   "metadata": {},
   "outputs": [],
   "source": [
    "# find the compounds used in the SSS using the expected rt \n",
    "ft_to_compound = dict()\n",
    "for index in df.index:\n",
    "    mz = df.loc[index, \"mz\"]\n",
    "    rt = df.loc[index, \"rt\"]\n",
    "    compound = df.loc[index, \"Compound\"]\n",
    "    ft = data.select_features(mz, rt)\n",
    "    ft_to_compound[ft[0]] = compound"
   ]
  },
  {
   "cell_type": "code",
   "execution_count": null,
   "metadata": {},
   "outputs": [],
   "source": [
    "# removing features that are not from the chemical standards\n",
    "rm_features = (data.data_matrix.columns\n",
    "               .difference(ft_to_compound.keys()))\n",
    "data.remove(rm_features, \"features\")"
   ]
  },
  {
   "cell_type": "code",
   "execution_count": null,
   "metadata": {},
   "outputs": [],
   "source": [
    "# add compound name and class to each feature\n",
    "feature_table[\"Compound\"] = feature_table[\"cluster\"].map(ft_to_compound)\n",
    "feature_table[\"class\"] = feature_table[\"sample\"].map(sample_list[\"class\"])"
   ]
  },
  {
   "cell_type": "code",
   "execution_count": null,
   "metadata": {},
   "outputs": [],
   "source": [
    "feature_table.head()"
   ]
  },
  {
   "cell_type": "markdown",
   "metadata": {},
   "source": [
    "## Figure 3: m/z, Rt and area dispersion for SSS samples"
   ]
  },
  {
   "cell_type": "code",
   "execution_count": null,
   "metadata": {},
   "outputs": [],
   "source": [
    "# FIGURE 3: \n",
    "sss_mask = feature_table[\"class\"].isin([\"SSS1\", \"SSS2\", \"SSS3\"])\n",
    "sss_data = feature_table[sss_mask].copy()\n",
    "\n",
    "# compute mean centered m/z and rt\n",
    "mean_mz = sss_data[\"mz\"].groupby(sss_data[\"cluster\"]).mean()\n",
    "mean_rt = sss_data[\"rt\"].groupby(sss_data[\"cluster\"]).mean()\n",
    "sss_data[\"mean mz\"] = \\\n",
    "    (sss_data[\"mz\"].groupby(sss_data[\"cluster\"])\n",
    "     .apply(lambda x: x - mean_mz[x.name]))\n",
    "\n",
    "sss_data[\"mean rt\"] = \\\n",
    "    (sss_data[\"rt\"].groupby(sss_data[\"cluster\"])\n",
    "     .apply(lambda x: x - mean_rt[x.name]))\n",
    "\n",
    "xvars = [\"mean mz\", \"mean rt\", \"area\"]\n",
    "g = sns.PairGrid(data=sss_data,\n",
    "                 y_vars=[\"Compound\"],\n",
    "                 x_vars=xvars,\n",
    "                 hue=\"class\",\n",
    "                 hue_kws={\"marker\": [\".\", \"X\", \"D\"], \"size\": [8, 8, 8]},\n",
    "                 height=4)\n",
    "g.map(sns.stripplot)\n",
    "\n",
    "# setting plot properties\n",
    "g.axes[0, 0].set_xlim(-0.01, 0.01)\n",
    "g.axes[0, 2].set_xticks(np.linspace(0, 2e5, 5))\n",
    "t = g.axes[0, 2].get_xticks()\n",
    "t = [str(x / 100000) for x in t ]\n",
    "g.axes[0, 2].set_xticklabels(t);\n",
    "g.axes[0, 0].set_xlabel(\"Mean centered m/z\")\n",
    "g.axes[0, 1].set_xlabel(\"Mean centered Rt [s]\")\n",
    "g.axes[0, 2].set_xlabel(\"Area / $10^{5}$ [au]\");\n",
    "# g.savefig(\"metabolomics-2020-sss.png\", dpi=300)"
   ]
  },
  {
   "cell_type": "markdown",
   "metadata": {},
   "source": [
    "## Figure S2: m/z, Rt and area dispersion for QC samples"
   ]
  },
  {
   "cell_type": "code",
   "execution_count": null,
   "metadata": {},
   "outputs": [],
   "source": [
    "# FIGURE S1: \n",
    "\n",
    "# also remove LPC 18:0 because the area has much higher values\n",
    "qc_mask = feature_table[\"class\"].isin([\"QC\"]) & (feature_table[\"Compound\"] != \"LPC 18:0\")\n",
    "qc_data = feature_table[qc_mask].copy()\n",
    "\n",
    "# compute mean centered m/z and rt\n",
    "mean_mz = qc_data[\"mz\"].groupby(qc_data[\"cluster\"]).mean()\n",
    "mean_rt = qc_data[\"rt\"].groupby(qc_data[\"cluster\"]).mean()\n",
    "qc_data[\"mean_mz\"] = \\\n",
    "    (qc_data[\"mz\"].groupby(qc_data[\"cluster\"])\n",
    "     .apply(lambda x: x - mean_mz[x.name]))\n",
    "\n",
    "qc_data[\"mean_rt\"] = \\\n",
    "    (qc_data[\"rt\"].groupby(qc_data[\"cluster\"])\n",
    "     .apply(lambda x: x - mean_rt[x.name]))\n",
    "# sss_data = sss_data.rename(columns={\"area\": \"Area / 10e5 [au]\"})\n",
    "\n",
    "xvars = [\"mean_mz\", \"mean_rt\", \"area\"]\n",
    "g = sns.PairGrid(data=qc_data,\n",
    "                 y_vars=[\"Compound\"],\n",
    "                 x_vars=xvars,\n",
    "                 hue=\"class\",\n",
    "                 height=4)\n",
    "g.map(sns.stripplot)\n",
    "g.axes[0, 0].set_xlim(-0.01, 0.01)\n",
    "g.axes[0, 1].set_xlim(-1, 1)\n",
    "g.axes[0, 2].set_xticks(np.linspace(0, 3e5, 6))\n",
    "\n",
    "# ticks for lpc\n",
    "# g.axes[0, 2].set_xticks(np.linspace(2e6, 7e6, 6))\n",
    "t = g.axes[0, 2].get_xticks()\n",
    "# t = [str(x / 100000) + \"e05\" if x != 0 else \"0\" for x in t ]\n",
    "t = [str(x / 100000) for x in t ]\n",
    "g.axes[0, 2].set_xticklabels(t);g.axes[0, 0].set_xlabel(\"Mean centered m/z\")\n",
    "g.axes[0, 1].set_xlabel(\"Mean centered Rt [s]\")\n",
    "g.axes[0, 2].set_xlabel(\"Area / $10^{5}$ [au]\")\n",
    "# g.savefig(\"rt_mz_area_qc_lpc.png\", dpi=300)"
   ]
  },
  {
   "cell_type": "markdown",
   "metadata": {},
   "source": [
    "### Figure S1: overlapped ROI for each feature"
   ]
  },
  {
   "cell_type": "code",
   "execution_count": null,
   "metadata": {},
   "outputs": [],
   "source": [
    "# an optional figure to show feature correspondence results\n",
    "def plot_clustered_roi(feature_table, roi, ft, classes, cmapper):\n",
    "    fig, ax = plt.subplots(figsize=(12, 8))\n",
    "    grouped = feature_table.groupby(\"cluster\")\n",
    "    ft_group = grouped.get_group(ft)\n",
    "    for ind in ft_group.index:\n",
    "        c = ft_group.loc[ind, \"class\"]\n",
    "        if c in classes:\n",
    "            sample = ft_group.loc[ind, \"sample\"]\n",
    "            roi_ind = ft_group.loc[ind, \"roi index\"]\n",
    "            peak_ind = ft_group.loc[ind, \"peak index\"]\n",
    "            r = roi[sample][roi_ind]\n",
    "            p = roi[sample][roi_ind].peaks[peak_ind]\n",
    "            ax.plot(r.rt, r.spint, color=\"gray\", alpha=0.5)\n",
    "            ax.fill_between(r.rt[p.start:p.end+1], r.spint[p.start:p.end+1],\n",
    "                            alpha=0.5, color=cmapper[c])\n",
    "    return fig, ax\n",
    "\n",
    "title_str = \"Alogliptin\"\n",
    "kft = \"FT04\"\n",
    "# fig, ax = plot_clustered_roi(proto_dm, roi, kft, [\"SSS1\", \"SSS2\", \"SSS3\"],\n",
    "#                              {\"SSS1\": \"lightskyblue\",\n",
    "#                                \"SSS2\": \"darkorange\",\n",
    "#                                \"SSS3\": \"green\"})\n",
    "fig, ax = plot_clustered_roi(feature_table, roi, kft, [\"QC\"],\n",
    "                             {\"QC\": \"lightskyblue\"})\n",
    "ax.set_title(title_str)\n",
    "ax.set_xlim(750, 850)\n",
    "ax.set_xlabel(\"Rt [s]\");\n",
    "# plt.savefig(kft + \".png\", dpi=300)"
   ]
  }
 ],
 "metadata": {
  "kernelspec": {
   "display_name": "Python 3 (ipykernel)",
   "language": "python",
   "name": "python3"
  },
  "language_info": {
   "codemirror_mode": {
    "name": "ipython",
    "version": 3
   },
   "file_extension": ".py",
   "mimetype": "text/x-python",
   "name": "python",
   "nbconvert_exporter": "python",
   "pygments_lexer": "ipython3",
   "version": "3.8.10"
  }
 },
 "nbformat": 4,
 "nbformat_minor": 2
}
